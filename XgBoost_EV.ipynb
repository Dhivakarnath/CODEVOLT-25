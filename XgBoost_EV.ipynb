{
  "nbformat": 4,
  "nbformat_minor": 0,
  "metadata": {
    "colab": {
      "provenance": []
    },
    "kernelspec": {
      "name": "python3",
      "display_name": "Python 3"
    },
    "language_info": {
      "name": "python"
    }
  },
  "cells": [
    {
      "cell_type": "markdown",
      "source": [
        "**SPEED LIMIT MODEL**"
      ],
      "metadata": {
        "id": "ogVLnnRB8_-o"
      }
    },
    {
      "cell_type": "code",
      "execution_count": 2,
      "metadata": {
        "colab": {
          "base_uri": "https://localhost:8080/"
        },
        "id": "4HR9ycDSYbzQ",
        "outputId": "e4e87603-3105-45b6-bfff-587da59fd221"
      },
      "outputs": [
        {
          "output_type": "stream",
          "name": "stdout",
          "text": [
            "Cross-Validation MAE: 0.95\n",
            "Mean Absolute Error: 0.95\n",
            "Root Mean Squared Error: 1.46\n",
            "Model saved as speed_limit.pkl\n"
          ]
        }
      ],
      "source": [
        "import pandas as pd\n",
        "import numpy as np\n",
        "import xgboost as xgb\n",
        "from sklearn.model_selection import train_test_split, cross_val_score\n",
        "from sklearn.metrics import mean_absolute_error, mean_squared_error\n",
        "import joblib\n",
        "import matplotlib.pyplot as plt\n",
        "\n",
        "dataset_path = \"speed_limit_dataset_final.csv\"\n",
        "df = pd.read_csv(dataset_path)\n",
        "\n",
        "X = df[['acceleration', 'distance_km', 'battery_level', 'terrain_elevation', 'weather_condition']]\n",
        "y = df['speed_limit']\n",
        "\n",
        "X_train, X_test, y_train, y_test = train_test_split(X, y, test_size=0.2, random_state=42)\n",
        "\n",
        "model = xgb.XGBRegressor(\n",
        "    n_estimators=400,\n",
        "    learning_rate=0.05,\n",
        "    max_depth=5,\n",
        "    subsample=0.8,\n",
        "    colsample_bytree=0.8,\n",
        "    reg_alpha=0.1,\n",
        "    reg_lambda=0.3,\n",
        "    objective='reg:squarederror',\n",
        "    random_state=42\n",
        ")\n",
        "\n",
        "model.fit(X_train, y_train)\n",
        "\n",
        "cv_scores = cross_val_score(model, X, y, scoring='neg_mean_absolute_error', cv=5)\n",
        "print(f\"Cross-Validation MAE: {-cv_scores.mean():.2f}\")\n",
        "\n",
        "y_pred = model.predict(X_test)\n",
        "\n",
        "mae = mean_absolute_error(y_test, y_pred)\n",
        "mse = mean_squared_error(y_test, y_pred)\n",
        "rmse = np.sqrt(mse)\n",
        "\n",
        "print(f\"Mean Absolute Error: {mae:.2f}\")\n",
        "print(f\"Root Mean Squared Error: {rmse:.2f}\")\n",
        "\n",
        "# plt.figure(figsize=(10, 6))\n",
        "# plt.scatter(range(len(y_test)), y_test, label=\"Actual Speed Limit\", alpha=0.6)\n",
        "# plt.scatter(range(len(y_pred)), y_pred, label=\"Predicted Speed Limit\", alpha=0.6)\n",
        "# plt.xlabel(\"Test Sample Index\")\n",
        "# plt.ylabel(\"Speed Limit (km/h)\")\n",
        "# plt.title(\"Actual vs Predicted Speed Limit\")\n",
        "# plt.legend()\n",
        "# plt.show()\n",
        "\n",
        "model_path = \"speed_limit.pkl\"\n",
        "joblib.dump(model, model_path)\n",
        "print(f\"Model saved as {model_path}\")\n"
      ]
    },
    {
      "cell_type": "code",
      "source": [
        "print(\"Enter values for prediction:\")\n",
        "acceleration = float(input(\"Acceleration (m/s²): \"))\n",
        "distance = float(input(\"Distance (km): \"))\n",
        "battery_level = float(input(\"Battery Level (%): \"))\n",
        "terrain = int(input(\"Terrain Elevation (-2 to +2): \"))\n",
        "weather = int(input(\"Weather Condition (0=Normal, 1=Hot, 2=Wet): \"))\n",
        "\n",
        "user_input = np.array([[acceleration, distance, battery_level, terrain, weather]])\n",
        "user_prediction = model.predict(user_input)\n",
        "print(f\"Predicted Speed Limit: {user_prediction[0]:.2f} km/h\")"
      ],
      "metadata": {
        "colab": {
          "base_uri": "https://localhost:8080/"
        },
        "id": "zY6Siwul6mqf",
        "outputId": "648202dc-83dc-442b-8d6d-30a2d32365f2"
      },
      "execution_count": 3,
      "outputs": [
        {
          "output_type": "stream",
          "name": "stdout",
          "text": [
            "Enter values for prediction:\n",
            "Acceleration (m/s²): 1.6\n",
            "Distance (km): 60\n",
            "Battery Level (%): 42\n",
            "Terrain Elevation (-2 to +2): 1\n",
            "Weather Condition (0=Normal, 1=Hot, 2=Wet): 0\n",
            "Predicted Speed Limit: 83.38 km/h\n"
          ]
        }
      ]
    },
    {
      "cell_type": "code",
      "source": [
        "from sklearn.metrics import mean_absolute_error, mean_squared_error, r2_score\n",
        "import numpy as np\n",
        "\n",
        "y_pred = model.predict(X_test)\n",
        "\n",
        "mae = mean_absolute_error(y_test, y_pred)\n",
        "mse = mean_squared_error(y_test, y_pred)\n",
        "rmse = np.sqrt(mse)\n",
        "r2 = r2_score(y_test, y_pred)\n",
        "\n",
        "print(f\"Mean Absolute Error (MAE): {mae:.2f}\")\n",
        "print(f\"Root Mean Squared Error (RMSE): {rmse:.2f}\")\n",
        "print(f\"R² Score: {r2:.2f}\")\n",
        "\n",
        "comparison_df = pd.DataFrame({'Actual Speed Limit': y_test, 'Predicted Speed Limit': y_pred})\n",
        "print(\"\\nActual vs Predicted Speed Limits:\")\n",
        "print(comparison_df.head(10))\n"
      ],
      "metadata": {
        "colab": {
          "base_uri": "https://localhost:8080/"
        },
        "id": "oF9GBO8B75qH",
        "outputId": "a438b1c0-a8ff-417e-b4e5-c3dc88ab2aaf"
      },
      "execution_count": 4,
      "outputs": [
        {
          "output_type": "stream",
          "name": "stdout",
          "text": [
            "Mean Absolute Error (MAE): 0.95\n",
            "Root Mean Squared Error (RMSE): 1.46\n",
            "R² Score: 1.00\n",
            "\n",
            "Actual vs Predicted Speed Limits:\n",
            "      Actual Speed Limit  Predicted Speed Limit\n",
            "1501          115.000000             115.651588\n",
            "2586           80.370982              81.214783\n",
            "2653          120.000000             121.327797\n",
            "1055           84.399779              85.215004\n",
            "705           105.670593             107.063057\n",
            "106            71.597672              70.294350\n",
            "589            68.288075              66.551903\n",
            "2468          101.753956             103.030006\n",
            "2413          120.000000             120.173416\n",
            "1600           90.360005              94.409584\n"
          ]
        }
      ]
    },
    {
      "cell_type": "code",
      "source": [
        "train_pred = model.predict(X_train)\n",
        "test_pred = model.predict(X_test)\n",
        "\n",
        "train_r2 = r2_score(y_train, train_pred)\n",
        "test_r2 = r2_score(y_test, test_pred)\n",
        "\n",
        "print(f\"Train R² Score: {train_r2:.2f}\")\n",
        "print(f\"Test R² Score: {test_r2:.2f}\")"
      ],
      "metadata": {
        "colab": {
          "base_uri": "https://localhost:8080/"
        },
        "id": "9PnZPvgc8oq3",
        "outputId": "79dfdae4-e8b1-4dca-b981-7842d825c32b"
      },
      "execution_count": 5,
      "outputs": [
        {
          "output_type": "stream",
          "name": "stdout",
          "text": [
            "Train R² Score: 1.00\n",
            "Test R² Score: 1.00\n"
          ]
        }
      ]
    },
    {
      "cell_type": "markdown",
      "source": [
        "**WEAR AND TEAR MODEL**"
      ],
      "metadata": {
        "id": "d8NOPvj_9Hbg"
      }
    },
    {
      "cell_type": "code",
      "source": [
        "import pandas as pd\n",
        "import numpy as np\n",
        "import xgboost as xgb\n",
        "from sklearn.model_selection import train_test_split\n",
        "from sklearn.metrics import mean_absolute_error, mean_squared_error, r2_score\n",
        "import joblib\n",
        "\n",
        "dataset_path = \"wear_tear_dataset.csv\"\n",
        "df = pd.read_csv(dataset_path)\n",
        "\n",
        "x_labels = [\n",
        "    \"braking_intensity\",\n",
        "    \"harsh_acceleration\",\n",
        "    \"average_speed\",\n",
        "    \"distance_driven\",\n",
        "    \"weather_condition\",\n",
        "    \"terrain_type\"\n",
        "]\n",
        "\n",
        "y_labels = [\n",
        "    \"battery_health\",\n",
        "    \"brake_health\",\n",
        "    \"tyre_health\"\n",
        "]\n",
        "\n",
        "X = df[x_labels]\n",
        "y = df[y_labels]\n",
        "\n",
        "X_train, X_test, y_train, y_test = train_test_split(\n",
        "    X, y, test_size=0.2, random_state=42\n",
        ")\n",
        "\n",
        "optimized_model = xgb.XGBRegressor(\n",
        "    n_estimators=500,\n",
        "    learning_rate=0.03,\n",
        "    max_depth=7,\n",
        "    subsample=0.85,\n",
        "    colsample_bytree=0.9,\n",
        "    reg_alpha=0.05,\n",
        "    reg_lambda=0.2,\n",
        "    gamma=0.3,\n",
        "    objective='reg:squarederror',\n",
        "    random_state=42\n",
        ")\n",
        "\n",
        "model.fit(X_train, y_train)\n",
        "\n",
        "y_pred = model.predict(X_test)\n",
        "\n",
        "mae = mean_absolute_error(y_test, y_pred)\n",
        "mse = mean_squared_error(y_test, y_pred)\n",
        "r2 = r2_score(y_test, y_pred)\n",
        "\n",
        "print(\"Model Performance:\")\n",
        "print(f\"Mean Absolute Error (MAE): {mae:.2f}\")\n",
        "print(f\"Mean Squared Error (MSE): {mse:.2f}\")\n",
        "print(f\"R² Score: {r2:.2f}\")\n",
        "\n",
        "model_filename = \"wear_tear.pkl\"\n",
        "joblib.dump(model, model_filename)\n",
        "print(f\"\\nModel saved as '{model_filename}'\")"
      ],
      "metadata": {
        "colab": {
          "base_uri": "https://localhost:8080/"
        },
        "id": "hmabBcsh9PaK",
        "outputId": "10bb3cf2-5268-4174-b923-ecafadbb5581"
      },
      "execution_count": 11,
      "outputs": [
        {
          "output_type": "stream",
          "name": "stdout",
          "text": [
            "Model Performance:\n",
            "Mean Absolute Error (MAE): 1.77\n",
            "Mean Squared Error (MSE): 4.87\n",
            "R² Score: 0.97\n",
            "\n",
            "Model saved as 'wear_tear.pkl'\n"
          ]
        }
      ]
    },
    {
      "cell_type": "code",
      "source": [
        "test_input = pd.DataFrame({\n",
        "    \"braking_intensity\": [np.random.uniform(0, 10)],\n",
        "    \"harsh_acceleration\": [np.random.uniform(0, 10)],\n",
        "    \"average_speed\": [np.random.uniform(20, 120)],\n",
        "    \"distance_driven\": [np.random.uniform(5, 150)],\n",
        "    \"weather_condition\": [np.random.choice([0, 1, 2])],\n",
        "    \"terrain_type\": [np.random.choice([-2, -1, 0, 1, 2])]\n",
        "})\n",
        "\n",
        "predicted_health = model.predict(test_input)\n",
        "\n",
        "print(\"\\nRandom Test Input:\")\n",
        "print(test_input)\n",
        "\n",
        "print(\"\\nPredicted Wear & Tear Health:\")\n",
        "print(f\"Battery Health: {predicted_health[0][0]:.2f}%\")\n",
        "print(f\"Brake Health:   {predicted_health[0][1]:.2f}%\")\n",
        "print(f\"Tyre Health:    {predicted_health[0][2]:.2f}%\")\n"
      ],
      "metadata": {
        "colab": {
          "base_uri": "https://localhost:8080/"
        },
        "id": "t9Le5uVfKRqq",
        "outputId": "11e979de-c2d6-46b4-e4e7-c40e0faa5848"
      },
      "execution_count": 12,
      "outputs": [
        {
          "output_type": "stream",
          "name": "stdout",
          "text": [
            "\n",
            "Random Test Input:\n",
            "   braking_intensity  harsh_acceleration  average_speed  distance_driven  \\\n",
            "0           9.511929            9.931051      72.354778        26.098173   \n",
            "\n",
            "   weather_condition  terrain_type  \n",
            "0                  0             2  \n",
            "\n",
            "Predicted Wear & Tear Health:\n",
            "Battery Health: 45.43%\n",
            "Brake Health:   46.76%\n",
            "Tyre Health:    55.44%\n"
          ]
        }
      ]
    },
    {
      "cell_type": "code",
      "source": [
        "import pandas as pd\n",
        "import numpy as np\n",
        "from sklearn.metrics import mean_absolute_error, mean_squared_error, r2_score\n",
        "\n",
        "y_test = np.ravel(y_test)\n",
        "y_pred = np.ravel(y_pred)\n",
        "\n",
        "mae = mean_absolute_error(y_test, y_pred)\n",
        "mse = mean_squared_error(y_test, y_pred)\n",
        "rmse = np.sqrt(mse)\n",
        "r2 = r2_score(y_test, y_pred)\n",
        "\n",
        "print(f\"Mean Absolute Error (MAE): {mae:.2f}\")\n",
        "print(f\"Root Mean Squared Error (RMSE): {rmse:.2f}\")\n",
        "print(f\"R² Score: {r2:.2f}\")\n",
        "\n",
        "comparison_df = pd.DataFrame({\n",
        "    'Battery Health': y_test,\n",
        "    'Predicted Battery Health': y_pred\n",
        "})\n",
        "\n",
        "print(\"\\nActual vs Predicted:\")\n",
        "print(comparison_df.head(10))"
      ],
      "metadata": {
        "colab": {
          "base_uri": "https://localhost:8080/"
        },
        "id": "9doJ4m2_L640",
        "outputId": "06833709-63ea-4037-983e-3d5b4c2e8dca"
      },
      "execution_count": 15,
      "outputs": [
        {
          "output_type": "stream",
          "name": "stdout",
          "text": [
            "Mean Absolute Error (MAE): 1.77\n",
            "Root Mean Squared Error (RMSE): 2.21\n",
            "R² Score: 0.98\n",
            "\n",
            "Actual vs Predicted:\n",
            "   Battery Health  Predicted Battery Health\n",
            "0       52.224825                 54.251976\n",
            "1       47.492306                 51.390366\n",
            "2       65.085547                 68.056602\n",
            "3       43.175191                 46.719452\n",
            "4       55.799759                 55.172634\n",
            "5       64.688139                 62.439911\n",
            "6       67.075370                 67.463943\n",
            "7       79.737283                 72.975960\n",
            "8       80.095509                 79.046112\n",
            "9       34.812648                 37.477436\n"
          ]
        }
      ]
    },
    {
      "cell_type": "code",
      "source": [
        "train_pred = model.predict(X_train)\n",
        "test_pred = model.predict(X_test)\n",
        "\n",
        "train_r2 = r2_score(y_train, train_pred)\n",
        "test_r2 = r2_score(y_test, y_pred)\n",
        "\n",
        "print(f\"Train R² Score: {train_r2:.2f}\")\n",
        "print(f\"Test R² Score: {test_r2:.2f}\")"
      ],
      "metadata": {
        "colab": {
          "base_uri": "https://localhost:8080/"
        },
        "id": "lMw0wrtwNPEb",
        "outputId": "e2e3f666-e151-47b1-d06e-af0024e25fe6"
      },
      "execution_count": 17,
      "outputs": [
        {
          "output_type": "stream",
          "name": "stdout",
          "text": [
            "Train R² Score: 0.99\n",
            "Test R² Score: 0.98\n"
          ]
        }
      ]
    }
  ]
}